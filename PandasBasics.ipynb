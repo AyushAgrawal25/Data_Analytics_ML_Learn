{
 "cells": [
  {
   "cell_type": "code",
   "execution_count": 2,
   "id": "1e4a7e8c",
   "metadata": {},
   "outputs": [],
   "source": [
    "import numpy as np"
   ]
  },
  {
   "cell_type": "code",
   "execution_count": 3,
   "id": "3a4328e1",
   "metadata": {},
   "outputs": [],
   "source": [
    "import pandas as pd"
   ]
  },
  {
   "cell_type": "code",
   "execution_count": 12,
   "id": "24179215",
   "metadata": {},
   "outputs": [],
   "source": [
    "myIndex=['USA', 'Canada', 'Mexico']"
   ]
  },
  {
   "cell_type": "code",
   "execution_count": 13,
   "id": "f2957b80",
   "metadata": {},
   "outputs": [],
   "source": [
    "myData=[1776, 1867, 1821]"
   ]
  },
  {
   "cell_type": "code",
   "execution_count": 14,
   "id": "1007e135",
   "metadata": {},
   "outputs": [],
   "source": [
    "myser=pd.Series(data=myData)"
   ]
  },
  {
   "cell_type": "code",
   "execution_count": 15,
   "id": "1d38f2b9",
   "metadata": {},
   "outputs": [
    {
     "data": {
      "text/plain": [
       "0    1776\n",
       "1    1867\n",
       "2    1821\n",
       "dtype: int64"
      ]
     },
     "execution_count": 15,
     "metadata": {},
     "output_type": "execute_result"
    }
   ],
   "source": [
    "myser"
   ]
  },
  {
   "cell_type": "code",
   "execution_count": 16,
   "id": "c096ac4e",
   "metadata": {},
   "outputs": [],
   "source": [
    "myser=pd.Series(data=myData, index=myIndex)"
   ]
  },
  {
   "cell_type": "code",
   "execution_count": 17,
   "id": "631a1ca9",
   "metadata": {},
   "outputs": [
    {
     "data": {
      "text/plain": [
       "USA       1776\n",
       "Canada    1867\n",
       "Mexico    1821\n",
       "dtype: int64"
      ]
     },
     "execution_count": 17,
     "metadata": {},
     "output_type": "execute_result"
    }
   ],
   "source": [
    "myser"
   ]
  },
  {
   "cell_type": "code",
   "execution_count": 19,
   "id": "27a48e5a",
   "metadata": {},
   "outputs": [
    {
     "data": {
      "text/plain": [
       "1776"
      ]
     },
     "execution_count": 19,
     "metadata": {},
     "output_type": "execute_result"
    }
   ],
   "source": [
    "myser[0]"
   ]
  },
  {
   "cell_type": "code",
   "execution_count": 20,
   "id": "656e74fe",
   "metadata": {},
   "outputs": [
    {
     "data": {
      "text/plain": [
       "1776"
      ]
     },
     "execution_count": 20,
     "metadata": {},
     "output_type": "execute_result"
    }
   ],
   "source": [
    "myser['USA']"
   ]
  },
  {
   "cell_type": "code",
   "execution_count": 29,
   "id": "722a873b",
   "metadata": {},
   "outputs": [],
   "source": [
    "sales_q1=pd.Series({\n",
    "    \"Brazil\" : 500, \n",
    "    \"India\" : 1000,\n",
    "    \"China\" : 50,\n",
    "    \"USA\" : 1000\n",
    "})"
   ]
  },
  {
   "cell_type": "code",
   "execution_count": 30,
   "id": "25eb94a6",
   "metadata": {},
   "outputs": [],
   "source": [
    "sales_q2=pd.Series({\n",
    "    \"Japan\" : 800, \n",
    "    \"India\" : 1500,\n",
    "    \"China\" : 250,\n",
    "    \"USA\" : 1125\n",
    "})"
   ]
  },
  {
   "cell_type": "code",
   "execution_count": 31,
   "id": "3dec2d4c",
   "metadata": {},
   "outputs": [
    {
     "data": {
      "text/plain": [
       "Brazil     500\n",
       "India     1000\n",
       "China       50\n",
       "USA       1000\n",
       "dtype: int64"
      ]
     },
     "execution_count": 31,
     "metadata": {},
     "output_type": "execute_result"
    }
   ],
   "source": [
    "sales_q1"
   ]
  },
  {
   "cell_type": "code",
   "execution_count": 38,
   "id": "f10e9c54",
   "metadata": {},
   "outputs": [
    {
     "data": {
      "text/plain": [
       "Japan     800\n",
       "India    1500\n",
       "China     250\n",
       "USA      1125\n",
       "dtype: int64"
      ]
     },
     "execution_count": 38,
     "metadata": {},
     "output_type": "execute_result"
    }
   ],
   "source": [
    "sales_q2"
   ]
  },
  {
   "cell_type": "markdown",
   "id": "5aa1d853",
   "metadata": {},
   "source": [
    "### When we add both sales using pythons way"
   ]
  },
  {
   "cell_type": "code",
   "execution_count": 39,
   "id": "bd96ca6a",
   "metadata": {},
   "outputs": [
    {
     "data": {
      "text/plain": [
       "Brazil       NaN\n",
       "China      300.0\n",
       "India     2500.0\n",
       "Japan        NaN\n",
       "USA       2125.0\n",
       "dtype: float64"
      ]
     },
     "execution_count": 39,
     "metadata": {},
     "output_type": "execute_result"
    }
   ],
   "source": [
    "sales_q1+sales_q2"
   ]
  },
  {
   "cell_type": "markdown",
   "id": "b3984e2b",
   "metadata": {},
   "source": [
    "#### These values are NaN because they are not present in both."
   ]
  },
  {
   "cell_type": "markdown",
   "id": "a79b27e6",
   "metadata": {},
   "source": [
    "### Using pandas's way of Add."
   ]
  },
  {
   "cell_type": "code",
   "execution_count": 37,
   "id": "ab9a9352",
   "metadata": {},
   "outputs": [
    {
     "data": {
      "text/plain": [
       "Brazil     500.0\n",
       "China      300.0\n",
       "India     2500.0\n",
       "Japan      800.0\n",
       "USA       2125.0\n",
       "dtype: float64"
      ]
     },
     "execution_count": 37,
     "metadata": {},
     "output_type": "execute_result"
    }
   ],
   "source": [
    "sales_q1.add(sales_q2, fill_value=0)"
   ]
  },
  {
   "cell_type": "markdown",
   "id": "05e57be7",
   "metadata": {},
   "source": [
    "#### fill_value will be given if we encounter key which is not present on other Series."
   ]
  },
  {
   "cell_type": "code",
   "execution_count": null,
   "id": "0b10f50e",
   "metadata": {},
   "outputs": [],
   "source": []
  }
 ],
 "metadata": {
  "kernelspec": {
   "display_name": "Python 3 (ipykernel)",
   "language": "python",
   "name": "python3"
  },
  "language_info": {
   "codemirror_mode": {
    "name": "ipython",
    "version": 3
   },
   "file_extension": ".py",
   "mimetype": "text/x-python",
   "name": "python",
   "nbconvert_exporter": "python",
   "pygments_lexer": "ipython3",
   "version": "3.7.11"
  }
 },
 "nbformat": 4,
 "nbformat_minor": 5
}
