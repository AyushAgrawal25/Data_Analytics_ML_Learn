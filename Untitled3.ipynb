{
 "cells": [
  {
   "cell_type": "code",
   "execution_count": 1,
   "id": "6fab9f75",
   "metadata": {},
   "outputs": [
    {
     "data": {
      "text/plain": [
       "str"
      ]
     },
     "execution_count": 1,
     "metadata": {},
     "output_type": "execute_result"
    }
   ],
   "source": [
    "type(\"dfjh\")"
   ]
  },
  {
   "cell_type": "code",
   "execution_count": 2,
   "id": "ffade096",
   "metadata": {},
   "outputs": [
    {
     "data": {
      "text/plain": [
       "5"
      ]
     },
     "execution_count": 2,
     "metadata": {},
     "output_type": "execute_result"
    }
   ],
   "source": [
    "value=5\n",
    "value\n",
    "#Shift Enter"
   ]
  },
  {
   "cell_type": "code",
   "execution_count": 4,
   "id": "379d13fb",
   "metadata": {},
   "outputs": [
    {
     "name": "stdout",
     "output_type": "stream",
     "text": [
      " \"dflgj\" \n"
     ]
    }
   ],
   "source": [
    "print(\" \\\"dflgj\\\" \")"
   ]
  },
  {
   "cell_type": "code",
   "execution_count": 7,
   "id": "8f8b9816",
   "metadata": {},
   "outputs": [
    {
     "data": {
      "text/plain": [
       "'Hello Ayush'"
      ]
     },
     "execution_count": 7,
     "metadata": {},
     "output_type": "execute_result"
    }
   ],
   "source": [
    "\"Hello {}\".format(\"Ayush\")"
   ]
  },
  {
   "cell_type": "code",
   "execution_count": 1,
   "id": "a1d7a7fe",
   "metadata": {},
   "outputs": [
    {
     "data": {
      "text/plain": [
       "2401"
      ]
     },
     "execution_count": 1,
     "metadata": {},
     "output_type": "execute_result"
    }
   ],
   "source": [
    "7**4"
   ]
  },
  {
   "cell_type": "code",
   "execution_count": 3,
   "id": "fa3af8c0",
   "metadata": {},
   "outputs": [
    {
     "name": "stdout",
     "output_type": "stream",
     "text": [
      "The diameter of Earth is 12742 kilometers\n"
     ]
    }
   ],
   "source": [
    "print(\"The diameter of {} is {} kilometers\".format(\"Earth\", 12742));"
   ]
  },
  {
   "cell_type": "code",
   "execution_count": 6,
   "id": "a425dc93",
   "metadata": {},
   "outputs": [
    {
     "name": "stdout",
     "output_type": "stream",
     "text": [
      "sdf dnmhds ds ds hjds fdf h\n"
     ]
    }
   ],
   "source": [
    "for word in \"sdf dnmhds ds ds hjds fdf h\".lower().split('/'):\n",
    "    print(word)\n",
    "    \n"
   ]
  },
  {
   "cell_type": "code",
   "execution_count": null,
   "id": "81186767",
   "metadata": {},
   "outputs": [],
   "source": []
  }
 ],
 "metadata": {
  "kernelspec": {
   "display_name": "Python 3",
   "language": "python",
   "name": "python3"
  },
  "language_info": {
   "codemirror_mode": {
    "name": "ipython",
    "version": 3
   },
   "file_extension": ".py",
   "mimetype": "text/x-python",
   "name": "python",
   "nbconvert_exporter": "python",
   "pygments_lexer": "ipython3",
   "version": "3.8.8"
  }
 },
 "nbformat": 4,
 "nbformat_minor": 5
}
