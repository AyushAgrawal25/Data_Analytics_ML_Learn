{
 "cells": [
  {
   "cell_type": "code",
   "execution_count": 5,
   "id": "f14ad828",
   "metadata": {},
   "outputs": [
    {
     "name": "stdout",
     "output_type": "stream",
     "text": [
      "    Sr. No.   Age\n",
      "0         1  52.0\n",
      "1         2  51.0\n",
      "2         3  55.0\n",
      "3         4  53.0\n",
      "4         5  54.0\n",
      "5         6  60.0\n",
      "6         7  49.0\n",
      "7         8  56.0\n",
      "8         9  59.0\n",
      "9        10   NaN\n",
      "10       11  62.0\n",
      "11       12  55.0\n",
      "12       13  46.0\n",
      "13       14   NaN\n",
      "14       15  63.0\n",
      "15       16  62.0\n",
      "16       17   NaN\n",
      "17       18  56.0\n",
      "18       19  62.0\n",
      "19       20  49.0\n"
     ]
    }
   ],
   "source": [
    "import pandas as pd \n",
    "import numpy as np\n",
    "df=pd.read_csv('missing.csv') \n",
    "print(df)"
   ]
  },
  {
   "cell_type": "code",
   "execution_count": 6,
   "id": "b3e719fd",
   "metadata": {},
   "outputs": [
    {
     "name": "stdout",
     "output_type": "stream",
     "text": [
      "    Sr. No.        Age\n",
      "0         1  52.000000\n",
      "1         2  51.000000\n",
      "2         3  55.000000\n",
      "3         4  53.000000\n",
      "4         5  54.000000\n",
      "5         6  60.000000\n",
      "6         7  49.000000\n",
      "7         8  56.000000\n",
      "8         9  59.000000\n",
      "9        10  55.529412\n",
      "10       11  62.000000\n",
      "11       12  55.000000\n",
      "12       13  46.000000\n",
      "13       14  55.529412\n",
      "14       15  63.000000\n",
      "15       16  62.000000\n",
      "16       17  55.529412\n",
      "17       18  56.000000\n",
      "18       19  62.000000\n",
      "19       20  49.000000\n"
     ]
    }
   ],
   "source": [
    "new_df=df.fillna(np.mean(df)) \n",
    "print(new_df)"
   ]
  },
  {
   "cell_type": "code",
   "execution_count": 7,
   "id": "489bbeda",
   "metadata": {},
   "outputs": [
    {
     "name": "stdout",
     "output_type": "stream",
     "text": [
      "    Sr. No.   Age\n",
      "0         1  52.0\n",
      "1         2  51.0\n",
      "2         3  55.0\n",
      "3         4  53.0\n",
      "4         5  54.0\n",
      "5         6  60.0\n",
      "6         7  49.0\n",
      "7         8  56.0\n",
      "8         9  59.0\n",
      "9        10   0.0\n",
      "10       11  62.0\n",
      "11       12  55.0\n",
      "12       13  46.0\n",
      "13       14   0.0\n",
      "14       15  63.0\n",
      "15       16  62.0\n",
      "16       17   0.0\n",
      "17       18  56.0\n",
      "18       19  62.0\n",
      "19       20  49.0\n"
     ]
    }
   ],
   "source": [
    "df=pd.read_csv('missing.csv') \n",
    "new_df=df.fillna(0) \n",
    "print(new_df) "
   ]
  },
  {
   "cell_type": "code",
   "execution_count": 8,
   "id": "82501ea9",
   "metadata": {},
   "outputs": [
    {
     "name": "stdout",
     "output_type": "stream",
     "text": [
      "Help on method fillna in module pandas.core.frame:\n",
      "\n",
      "fillna(value=None, method=None, axis=None, inplace=False, limit=None, downcast=None) -> Union[ForwardRef('DataFrame'), NoneType] method of pandas.core.frame.DataFrame instance\n",
      "    Fill NA/NaN values using the specified method.\n",
      "    \n",
      "    Parameters\n",
      "    ----------\n",
      "    value : scalar, dict, Series, or DataFrame\n",
      "        Value to use to fill holes (e.g. 0), alternately a\n",
      "        dict/Series/DataFrame of values specifying which value to use for\n",
      "        each index (for a Series) or column (for a DataFrame).  Values not\n",
      "        in the dict/Series/DataFrame will not be filled. This value cannot\n",
      "        be a list.\n",
      "    method : {'backfill', 'bfill', 'pad', 'ffill', None}, default None\n",
      "        Method to use for filling holes in reindexed Series\n",
      "        pad / ffill: propagate last valid observation forward to next valid\n",
      "        backfill / bfill: use next valid observation to fill gap.\n",
      "    axis : {0 or 'index', 1 or 'columns'}\n",
      "        Axis along which to fill missing values.\n",
      "    inplace : bool, default False\n",
      "        If True, fill in-place. Note: this will modify any\n",
      "        other views on this object (e.g., a no-copy slice for a column in a\n",
      "        DataFrame).\n",
      "    limit : int, default None\n",
      "        If method is specified, this is the maximum number of consecutive\n",
      "        NaN values to forward/backward fill. In other words, if there is\n",
      "        a gap with more than this number of consecutive NaNs, it will only\n",
      "        be partially filled. If method is not specified, this is the\n",
      "        maximum number of entries along the entire axis where NaNs will be\n",
      "        filled. Must be greater than 0 if not None.\n",
      "    downcast : dict, default is None\n",
      "        A dict of item->dtype of what to downcast if possible,\n",
      "        or the string 'infer' which will try to downcast to an appropriate\n",
      "        equal type (e.g. float64 to int64 if possible).\n",
      "    \n",
      "    Returns\n",
      "    -------\n",
      "    DataFrame or None\n",
      "        Object with missing values filled or None if ``inplace=True``.\n",
      "    \n",
      "    See Also\n",
      "    --------\n",
      "    interpolate : Fill NaN values using interpolation.\n",
      "    reindex : Conform object to new index.\n",
      "    asfreq : Convert TimeSeries to specified frequency.\n",
      "    \n",
      "    Examples\n",
      "    --------\n",
      "    >>> df = pd.DataFrame([[np.nan, 2, np.nan, 0],\n",
      "    ...                    [3, 4, np.nan, 1],\n",
      "    ...                    [np.nan, np.nan, np.nan, 5],\n",
      "    ...                    [np.nan, 3, np.nan, 4]],\n",
      "    ...                   columns=list('ABCD'))\n",
      "    >>> df\n",
      "         A    B   C  D\n",
      "    0  NaN  2.0 NaN  0\n",
      "    1  3.0  4.0 NaN  1\n",
      "    2  NaN  NaN NaN  5\n",
      "    3  NaN  3.0 NaN  4\n",
      "    \n",
      "    Replace all NaN elements with 0s.\n",
      "    \n",
      "    >>> df.fillna(0)\n",
      "        A   B   C   D\n",
      "    0   0.0 2.0 0.0 0\n",
      "    1   3.0 4.0 0.0 1\n",
      "    2   0.0 0.0 0.0 5\n",
      "    3   0.0 3.0 0.0 4\n",
      "    \n",
      "    We can also propagate non-null values forward or backward.\n",
      "    \n",
      "    >>> df.fillna(method='ffill')\n",
      "        A   B   C   D\n",
      "    0   NaN 2.0 NaN 0\n",
      "    1   3.0 4.0 NaN 1\n",
      "    2   3.0 4.0 NaN 5\n",
      "    3   3.0 3.0 NaN 4\n",
      "    \n",
      "    Replace all NaN elements in column 'A', 'B', 'C', and 'D', with 0, 1,\n",
      "    2, and 3 respectively.\n",
      "    \n",
      "    >>> values = {'A': 0, 'B': 1, 'C': 2, 'D': 3}\n",
      "    >>> df.fillna(value=values)\n",
      "        A   B   C   D\n",
      "    0   0.0 2.0 2.0 0\n",
      "    1   3.0 4.0 2.0 1\n",
      "    2   0.0 1.0 2.0 5\n",
      "    3   0.0 3.0 2.0 4\n",
      "    \n",
      "    Only replace the first NaN element.\n",
      "    \n",
      "    >>> df.fillna(value=values, limit=1)\n",
      "        A   B   C   D\n",
      "    0   0.0 2.0 2.0 0\n",
      "    1   3.0 4.0 NaN 1\n",
      "    2   NaN 1.0 NaN 5\n",
      "    3   NaN 3.0 NaN 4\n",
      "\n"
     ]
    }
   ],
   "source": [
    "help(df.fillna) "
   ]
  },
  {
   "cell_type": "code",
   "execution_count": 9,
   "id": "248a60e2",
   "metadata": {},
   "outputs": [
    {
     "name": "stdout",
     "output_type": "stream",
     "text": [
      "    Sr. No.   Age\n",
      "0         1  52.0\n",
      "1         2  51.0\n",
      "2         3  55.0\n",
      "3         4  53.0\n",
      "4         5  54.0\n",
      "5         6  60.0\n",
      "6         7  49.0\n",
      "7         8  56.0\n",
      "8         9  59.0\n",
      "9        10  62.0\n",
      "10       11  62.0\n",
      "11       12  55.0\n",
      "12       13  46.0\n",
      "13       14  63.0\n",
      "14       15  63.0\n",
      "15       16  62.0\n",
      "16       17  56.0\n",
      "17       18  56.0\n",
      "18       19  62.0\n",
      "19       20  49.0\n"
     ]
    }
   ],
   "source": [
    "df=pd.read_csv('missing.csv') \n",
    "new_df=df.fillna(method='backfill') \n",
    "print(new_df)"
   ]
  },
  {
   "cell_type": "code",
   "execution_count": null,
   "id": "096ffadf",
   "metadata": {},
   "outputs": [],
   "source": []
  }
 ],
 "metadata": {
  "kernelspec": {
   "display_name": "Python 3 (ipykernel)",
   "language": "python",
   "name": "python3"
  },
  "language_info": {
   "codemirror_mode": {
    "name": "ipython",
    "version": 3
   },
   "file_extension": ".py",
   "mimetype": "text/x-python",
   "name": "python",
   "nbconvert_exporter": "python",
   "pygments_lexer": "ipython3",
   "version": "3.7.11"
  }
 },
 "nbformat": 4,
 "nbformat_minor": 5
}
