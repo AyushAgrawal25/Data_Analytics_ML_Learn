{
 "cells": [
  {
   "cell_type": "markdown",
   "id": "c81659a2",
   "metadata": {},
   "source": [
    "# Very large font.\n",
    "\n",
    "# \n",
    "Shift Enter"
   ]
  },
  {
   "cell_type": "code",
   "execution_count": 3,
   "id": "62c9f8d6",
   "metadata": {},
   "outputs": [
    {
     "data": {
      "text/plain": [
       "2"
      ]
     },
     "execution_count": 3,
     "metadata": {},
     "output_type": "execute_result"
    }
   ],
   "source": [
    "1+1"
   ]
  },
  {
   "cell_type": "markdown",
   "id": "9150d6ea",
   "metadata": {},
   "source": [
    "# Shift Enter"
   ]
  },
  {
   "cell_type": "code",
   "execution_count": null,
   "id": "729285f2",
   "metadata": {},
   "outputs": [],
   "source": []
  }
 ],
 "metadata": {
  "kernelspec": {
   "display_name": "Python 3",
   "language": "python",
   "name": "python3"
  },
  "language_info": {
   "codemirror_mode": {
    "name": "ipython",
    "version": 3
   },
   "file_extension": ".py",
   "mimetype": "text/x-python",
   "name": "python",
   "nbconvert_exporter": "python",
   "pygments_lexer": "ipython3",
   "version": "3.8.8"
  }
 },
 "nbformat": 4,
 "nbformat_minor": 5
}
