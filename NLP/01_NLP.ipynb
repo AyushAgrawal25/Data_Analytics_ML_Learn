{
 "cells": [
  {
   "cell_type": "code",
   "execution_count": 1,
   "id": "76496062",
   "metadata": {},
   "outputs": [],
   "source": [
    "import pandas as pd\n",
    "import numpy as np\n",
    "import matplotlib as plt\n",
    "import seaborn as sns"
   ]
  },
  {
   "cell_type": "code",
   "execution_count": 2,
   "id": "45794cb7",
   "metadata": {},
   "outputs": [],
   "source": [
    "with open('./../Docs/18-Naive-Bayes-and-NLP/One.txt') as mytext:\n",
    "    words_one = mytext.read().lower().split()\n",
    "    uni_words_one = set(words_one)"
   ]
  },
  {
   "cell_type": "code",
   "execution_count": 3,
   "id": "7158019d",
   "metadata": {},
   "outputs": [
    {
     "data": {
      "text/plain": [
       "{'a',\n",
       " 'about',\n",
       " 'animals',\n",
       " 'are',\n",
       " 'canine',\n",
       " 'dogs',\n",
       " 'furry',\n",
       " 'is',\n",
       " 'our',\n",
       " 'pets',\n",
       " 'story',\n",
       " 'this'}"
      ]
     },
     "execution_count": 3,
     "metadata": {},
     "output_type": "execute_result"
    }
   ],
   "source": [
    "uni_words_one"
   ]
  },
  {
   "cell_type": "code",
   "execution_count": 4,
   "id": "ceeab540",
   "metadata": {},
   "outputs": [],
   "source": [
    "with open('./../Docs/18-Naive-Bayes-and-NLP/Two.txt') as mytext:\n",
    "    words_two = mytext.read().lower().split()\n",
    "    uni_words_two = set(words_two)"
   ]
  },
  {
   "cell_type": "code",
   "execution_count": 5,
   "id": "52ade09b",
   "metadata": {},
   "outputs": [
    {
     "data": {
      "text/plain": [
       "{'a',\n",
       " 'about',\n",
       " 'catching',\n",
       " 'fun',\n",
       " 'is',\n",
       " 'popular',\n",
       " 'sport',\n",
       " 'story',\n",
       " 'surfing',\n",
       " 'this',\n",
       " 'water',\n",
       " 'waves'}"
      ]
     },
     "execution_count": 5,
     "metadata": {},
     "output_type": "execute_result"
    }
   ],
   "source": [
    "uni_words_two"
   ]
  },
  {
   "cell_type": "code",
   "execution_count": 6,
   "id": "c491b8ea",
   "metadata": {},
   "outputs": [
    {
     "data": {
      "text/plain": [
       "{'a',\n",
       " 'about',\n",
       " 'animals',\n",
       " 'are',\n",
       " 'canine',\n",
       " 'catching',\n",
       " 'dogs',\n",
       " 'fun',\n",
       " 'furry',\n",
       " 'is',\n",
       " 'our',\n",
       " 'pets',\n",
       " 'popular',\n",
       " 'sport',\n",
       " 'story',\n",
       " 'surfing',\n",
       " 'this',\n",
       " 'water',\n",
       " 'waves'}"
      ]
     },
     "execution_count": 6,
     "metadata": {},
     "output_type": "execute_result"
    }
   ],
   "source": [
    "all_uni_words=set()\n",
    "all_uni_words.update(uni_words_one)\n",
    "all_uni_words.update(uni_words_two)\n",
    "all_uni_words"
   ]
  },
  {
   "cell_type": "code",
   "execution_count": 7,
   "id": "6a9f8a61",
   "metadata": {},
   "outputs": [
    {
     "data": {
      "text/plain": [
       "{'our': 0,\n",
       " 'are': 1,\n",
       " 'this': 2,\n",
       " 'water': 3,\n",
       " 'waves': 4,\n",
       " 'a': 5,\n",
       " 'canine': 6,\n",
       " 'animals': 7,\n",
       " 'fun': 8,\n",
       " 'is': 9,\n",
       " 'story': 10,\n",
       " 'pets': 11,\n",
       " 'surfing': 12,\n",
       " 'sport': 13,\n",
       " 'furry': 14,\n",
       " 'popular': 15,\n",
       " 'about': 16,\n",
       " 'dogs': 17,\n",
       " 'catching': 18}"
      ]
     },
     "execution_count": 7,
     "metadata": {},
     "output_type": "execute_result"
    }
   ],
   "source": [
    "full_vocab=dict()\n",
    "i=0\n",
    "\n",
    "for word in all_uni_words:\n",
    "    full_vocab[word]=i;\n",
    "    i+=1\n",
    "    \n",
    "full_vocab"
   ]
  },
  {
   "cell_type": "code",
   "execution_count": 9,
   "id": "10675358",
   "metadata": {},
   "outputs": [
    {
     "data": {
      "text/plain": [
       "['', '', '', '', '', '', '', '', '', '', '', '', '', '', '', '', '', '', '']"
      ]
     },
     "execution_count": 9,
     "metadata": {},
     "output_type": "execute_result"
    }
   ],
   "source": [
    "one_freq=[0]*len(full_vocab)\n",
    "two_freq=[0]*len(full_vocab)\n",
    "all_words=['']*len(full_vocab)\n",
    "\n",
    "all_words"
   ]
  },
  {
   "cell_type": "code",
   "execution_count": 9,
   "id": "81a99c62",
   "metadata": {},
   "outputs": [],
   "source": [
    "with open('./../Docs/18-Naive-Bayes-and-NLP/One.txt') as f:\n",
    "    one_text=f.read().lower().split()"
   ]
  },
  {
   "cell_type": "code",
   "execution_count": 10,
   "id": "9acaae9b",
   "metadata": {},
   "outputs": [],
   "source": [
    "for word in one_text:\n",
    "    word_ind=full_vocab[word]\n",
    "    one_freq[word_ind]+=1"
   ]
  },
  {
   "cell_type": "code",
   "execution_count": 11,
   "id": "609f20e0",
   "metadata": {},
   "outputs": [],
   "source": [
    "with open('./../Docs/18-Naive-Bayes-and-NLP/Two.txt') as f:\n",
    "    two_text=f.read().lower().split()"
   ]
  },
  {
   "cell_type": "code",
   "execution_count": 12,
   "id": "9ef51a4e",
   "metadata": {},
   "outputs": [],
   "source": [
    "for word in two_text:\n",
    "    word_ind=full_vocab[word]\n",
    "    two_freq[word_ind]+=1"
   ]
  },
  {
   "cell_type": "code",
   "execution_count": 13,
   "id": "ee5fd2c4",
   "metadata": {},
   "outputs": [
    {
     "data": {
      "text/plain": [
       "['', '', '', '', '', '', '', '', '', '', '', '', '', '', '', '', '', '', '']"
      ]
     },
     "execution_count": 13,
     "metadata": {},
     "output_type": "execute_result"
    }
   ],
   "source": [
    "all_words"
   ]
  },
  {
   "cell_type": "code",
   "execution_count": 14,
   "id": "6fc5c288",
   "metadata": {},
   "outputs": [
    {
     "data": {
      "text/plain": [
       "['this',\n",
       " 'our',\n",
       " 'dogs',\n",
       " 'about',\n",
       " 'are',\n",
       " 'waves',\n",
       " 'catching',\n",
       " 'story',\n",
       " 'water',\n",
       " 'pets',\n",
       " 'canine',\n",
       " 'surfing',\n",
       " 'animals',\n",
       " 'fun',\n",
       " 'a',\n",
       " 'popular',\n",
       " 'sport',\n",
       " 'is',\n",
       " 'furry']"
      ]
     },
     "execution_count": 14,
     "metadata": {},
     "output_type": "execute_result"
    }
   ],
   "source": [
    "for word in full_vocab:\n",
    "    word_ind=full_vocab[word]\n",
    "    all_words[word_ind]=word\n",
    "    \n",
    "all_words"
   ]
  },
  {
   "cell_type": "code",
   "execution_count": 15,
   "id": "1d00cae3",
   "metadata": {},
   "outputs": [
    {
     "data": {
      "text/html": [
       "<div>\n",
       "<style scoped>\n",
       "    .dataframe tbody tr th:only-of-type {\n",
       "        vertical-align: middle;\n",
       "    }\n",
       "\n",
       "    .dataframe tbody tr th {\n",
       "        vertical-align: top;\n",
       "    }\n",
       "\n",
       "    .dataframe thead th {\n",
       "        text-align: right;\n",
       "    }\n",
       "</style>\n",
       "<table border=\"1\" class=\"dataframe\">\n",
       "  <thead>\n",
       "    <tr style=\"text-align: right;\">\n",
       "      <th></th>\n",
       "      <th>this</th>\n",
       "      <th>our</th>\n",
       "      <th>dogs</th>\n",
       "      <th>about</th>\n",
       "      <th>are</th>\n",
       "      <th>waves</th>\n",
       "      <th>catching</th>\n",
       "      <th>story</th>\n",
       "      <th>water</th>\n",
       "      <th>pets</th>\n",
       "      <th>canine</th>\n",
       "      <th>surfing</th>\n",
       "      <th>animals</th>\n",
       "      <th>fun</th>\n",
       "      <th>a</th>\n",
       "      <th>popular</th>\n",
       "      <th>sport</th>\n",
       "      <th>is</th>\n",
       "      <th>furry</th>\n",
       "    </tr>\n",
       "  </thead>\n",
       "  <tbody>\n",
       "    <tr>\n",
       "      <th>0</th>\n",
       "      <td>1</td>\n",
       "      <td>1</td>\n",
       "      <td>2</td>\n",
       "      <td>1</td>\n",
       "      <td>1</td>\n",
       "      <td>0</td>\n",
       "      <td>0</td>\n",
       "      <td>1</td>\n",
       "      <td>0</td>\n",
       "      <td>1</td>\n",
       "      <td>1</td>\n",
       "      <td>0</td>\n",
       "      <td>1</td>\n",
       "      <td>0</td>\n",
       "      <td>1</td>\n",
       "      <td>0</td>\n",
       "      <td>0</td>\n",
       "      <td>1</td>\n",
       "      <td>1</td>\n",
       "    </tr>\n",
       "    <tr>\n",
       "      <th>1</th>\n",
       "      <td>1</td>\n",
       "      <td>0</td>\n",
       "      <td>0</td>\n",
       "      <td>1</td>\n",
       "      <td>0</td>\n",
       "      <td>1</td>\n",
       "      <td>1</td>\n",
       "      <td>1</td>\n",
       "      <td>1</td>\n",
       "      <td>0</td>\n",
       "      <td>0</td>\n",
       "      <td>2</td>\n",
       "      <td>0</td>\n",
       "      <td>1</td>\n",
       "      <td>1</td>\n",
       "      <td>1</td>\n",
       "      <td>1</td>\n",
       "      <td>3</td>\n",
       "      <td>0</td>\n",
       "    </tr>\n",
       "  </tbody>\n",
       "</table>\n",
       "</div>"
      ],
      "text/plain": [
       "   this  our  dogs  about  are  waves  catching  story  water  pets  canine  \\\n",
       "0     1    1     2      1    1      0         0      1      0     1       1   \n",
       "1     1    0     0      1    0      1         1      1      1     0       0   \n",
       "\n",
       "   surfing  animals  fun  a  popular  sport  is  furry  \n",
       "0        0        1    0  1        0      0   1      1  \n",
       "1        2        0    1  1        1      1   3      0  "
      ]
     },
     "execution_count": 15,
     "metadata": {},
     "output_type": "execute_result"
    }
   ],
   "source": [
    "bow=pd.DataFrame(\n",
    "    data=[one_freq, two_freq],\n",
    "    columns=all_words\n",
    ")\n",
    "\n",
    "# Bag of words model.\n",
    "# Which is frequency count.\n",
    "bow"
   ]
  },
  {
   "cell_type": "code",
   "execution_count": null,
   "id": "a47f35e0",
   "metadata": {},
   "outputs": [],
   "source": [
    "\n"
   ]
  }
 ],
 "metadata": {
  "kernelspec": {
   "display_name": "Python 3 (ipykernel)",
   "language": "python",
   "name": "python3"
  },
  "language_info": {
   "codemirror_mode": {
    "name": "ipython",
    "version": 3
   },
   "file_extension": ".py",
   "mimetype": "text/x-python",
   "name": "python",
   "nbconvert_exporter": "python",
   "pygments_lexer": "ipython3",
   "version": "3.7.11"
  }
 },
 "nbformat": 4,
 "nbformat_minor": 5
}
